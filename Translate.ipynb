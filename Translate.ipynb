{
 "cells": [
  {
   "cell_type": "code",
   "execution_count": 1,
   "metadata": {},
   "outputs": [],
   "source": [
    "import pandas as pd\n",
    "import numpy as np\n",
    "import seaborn as sns\n",
    "import matplotlib.pyplot as plt"
   ]
  },
  {
   "cell_type": "code",
   "execution_count": 2,
   "metadata": {},
   "outputs": [],
   "source": [
    "df = pd.read_csv('2020-04-30 Coronavirus Tweets.csv')"
   ]
  },
  {
   "cell_type": "code",
   "execution_count": 4,
   "metadata": {},
   "outputs": [
    {
     "data": {
      "text/html": [
       "<div>\n",
       "<style scoped>\n",
       "    .dataframe tbody tr th:only-of-type {\n",
       "        vertical-align: middle;\n",
       "    }\n",
       "\n",
       "    .dataframe tbody tr th {\n",
       "        vertical-align: top;\n",
       "    }\n",
       "\n",
       "    .dataframe thead th {\n",
       "        text-align: right;\n",
       "    }\n",
       "</style>\n",
       "<table border=\"1\" class=\"dataframe\">\n",
       "  <thead>\n",
       "    <tr style=\"text-align: right;\">\n",
       "      <th></th>\n",
       "      <th>status_id</th>\n",
       "      <th>user_id</th>\n",
       "      <th>created_at</th>\n",
       "      <th>screen_name</th>\n",
       "      <th>text</th>\n",
       "      <th>source</th>\n",
       "      <th>reply_to_status_id</th>\n",
       "      <th>reply_to_user_id</th>\n",
       "      <th>reply_to_screen_name</th>\n",
       "      <th>is_quote</th>\n",
       "      <th>...</th>\n",
       "      <th>retweet_count</th>\n",
       "      <th>country_code</th>\n",
       "      <th>place_full_name</th>\n",
       "      <th>place_type</th>\n",
       "      <th>followers_count</th>\n",
       "      <th>friends_count</th>\n",
       "      <th>account_lang</th>\n",
       "      <th>account_created_at</th>\n",
       "      <th>verified</th>\n",
       "      <th>lang</th>\n",
       "    </tr>\n",
       "  </thead>\n",
       "  <tbody>\n",
       "    <tr>\n",
       "      <td>0</td>\n",
       "      <td>1255648057644867584</td>\n",
       "      <td>860252856829587457</td>\n",
       "      <td>2020-04-30T00:00:00Z</td>\n",
       "      <td>IMSS_SanLuis</td>\n",
       "      <td>Asegura sus beneficios, registra a tu esposa e...</td>\n",
       "      <td>TweetDeck</td>\n",
       "      <td>NaN</td>\n",
       "      <td>NaN</td>\n",
       "      <td>NaN</td>\n",
       "      <td>False</td>\n",
       "      <td>...</td>\n",
       "      <td>0</td>\n",
       "      <td>NaN</td>\n",
       "      <td>NaN</td>\n",
       "      <td>NaN</td>\n",
       "      <td>1145</td>\n",
       "      <td>41</td>\n",
       "      <td>NaN</td>\n",
       "      <td>2017-05-04T22:00:38Z</td>\n",
       "      <td>False</td>\n",
       "      <td>es</td>\n",
       "    </tr>\n",
       "    <tr>\n",
       "      <td>1</td>\n",
       "      <td>1255648058483724288</td>\n",
       "      <td>42705538</td>\n",
       "      <td>2020-04-30T00:00:00Z</td>\n",
       "      <td>_ElFaro_</td>\n",
       "      <td>#COVID19 | El Faro conversó con policías, un f...</td>\n",
       "      <td>TweetDeck</td>\n",
       "      <td>NaN</td>\n",
       "      <td>NaN</td>\n",
       "      <td>NaN</td>\n",
       "      <td>False</td>\n",
       "      <td>...</td>\n",
       "      <td>11</td>\n",
       "      <td>NaN</td>\n",
       "      <td>NaN</td>\n",
       "      <td>NaN</td>\n",
       "      <td>513235</td>\n",
       "      <td>643</td>\n",
       "      <td>NaN</td>\n",
       "      <td>2009-05-26T20:01:23Z</td>\n",
       "      <td>True</td>\n",
       "      <td>es</td>\n",
       "    </tr>\n",
       "    <tr>\n",
       "      <td>2</td>\n",
       "      <td>1255648056764071940</td>\n",
       "      <td>154836286</td>\n",
       "      <td>2020-04-30T00:00:00Z</td>\n",
       "      <td>Cambio16</td>\n",
       "      <td>Si ya era cuestionable la burocracia, lo es má...</td>\n",
       "      <td>TweetDeck</td>\n",
       "      <td>NaN</td>\n",
       "      <td>NaN</td>\n",
       "      <td>NaN</td>\n",
       "      <td>False</td>\n",
       "      <td>...</td>\n",
       "      <td>1</td>\n",
       "      <td>NaN</td>\n",
       "      <td>NaN</td>\n",
       "      <td>NaN</td>\n",
       "      <td>17506</td>\n",
       "      <td>1874</td>\n",
       "      <td>NaN</td>\n",
       "      <td>2010-06-12T09:48:50Z</td>\n",
       "      <td>False</td>\n",
       "      <td>es</td>\n",
       "    </tr>\n",
       "    <tr>\n",
       "      <td>3</td>\n",
       "      <td>1255648056717897728</td>\n",
       "      <td>36100710</td>\n",
       "      <td>2020-04-30T00:00:00Z</td>\n",
       "      <td>GobCDMX</td>\n",
       "      <td>Las medidas de higiene ayudan a reducir la pro...</td>\n",
       "      <td>Twitter Media Studio</td>\n",
       "      <td>NaN</td>\n",
       "      <td>NaN</td>\n",
       "      <td>NaN</td>\n",
       "      <td>False</td>\n",
       "      <td>...</td>\n",
       "      <td>38</td>\n",
       "      <td>NaN</td>\n",
       "      <td>NaN</td>\n",
       "      <td>NaN</td>\n",
       "      <td>2779321</td>\n",
       "      <td>215</td>\n",
       "      <td>NaN</td>\n",
       "      <td>2009-04-28T15:55:16Z</td>\n",
       "      <td>True</td>\n",
       "      <td>es</td>\n",
       "    </tr>\n",
       "    <tr>\n",
       "      <td>4</td>\n",
       "      <td>1255648058295169025</td>\n",
       "      <td>849376242637864960</td>\n",
       "      <td>2020-04-30T00:00:00Z</td>\n",
       "      <td>IMSSZac</td>\n",
       "      <td>Cubre tu nariz y boca al estornudar con el áng...</td>\n",
       "      <td>TweetDeck</td>\n",
       "      <td>NaN</td>\n",
       "      <td>NaN</td>\n",
       "      <td>NaN</td>\n",
       "      <td>False</td>\n",
       "      <td>...</td>\n",
       "      <td>0</td>\n",
       "      <td>NaN</td>\n",
       "      <td>NaN</td>\n",
       "      <td>NaN</td>\n",
       "      <td>962</td>\n",
       "      <td>208</td>\n",
       "      <td>NaN</td>\n",
       "      <td>2017-04-04T21:40:51Z</td>\n",
       "      <td>False</td>\n",
       "      <td>es</td>\n",
       "    </tr>\n",
       "  </tbody>\n",
       "</table>\n",
       "<p>5 rows × 22 columns</p>\n",
       "</div>"
      ],
      "text/plain": [
       "             status_id             user_id            created_at  \\\n",
       "0  1255648057644867584  860252856829587457  2020-04-30T00:00:00Z   \n",
       "1  1255648058483724288            42705538  2020-04-30T00:00:00Z   \n",
       "2  1255648056764071940           154836286  2020-04-30T00:00:00Z   \n",
       "3  1255648056717897728            36100710  2020-04-30T00:00:00Z   \n",
       "4  1255648058295169025  849376242637864960  2020-04-30T00:00:00Z   \n",
       "\n",
       "    screen_name                                               text  \\\n",
       "0  IMSS_SanLuis  Asegura sus beneficios, registra a tu esposa e...   \n",
       "1      _ElFaro_  #COVID19 | El Faro conversó con policías, un f...   \n",
       "2      Cambio16  Si ya era cuestionable la burocracia, lo es má...   \n",
       "3       GobCDMX  Las medidas de higiene ayudan a reducir la pro...   \n",
       "4       IMSSZac  Cubre tu nariz y boca al estornudar con el áng...   \n",
       "\n",
       "                 source  reply_to_status_id  reply_to_user_id  \\\n",
       "0             TweetDeck                 NaN               NaN   \n",
       "1             TweetDeck                 NaN               NaN   \n",
       "2             TweetDeck                 NaN               NaN   \n",
       "3  Twitter Media Studio                 NaN               NaN   \n",
       "4             TweetDeck                 NaN               NaN   \n",
       "\n",
       "  reply_to_screen_name  is_quote  ...  retweet_count  country_code  \\\n",
       "0                  NaN     False  ...              0           NaN   \n",
       "1                  NaN     False  ...             11           NaN   \n",
       "2                  NaN     False  ...              1           NaN   \n",
       "3                  NaN     False  ...             38           NaN   \n",
       "4                  NaN     False  ...              0           NaN   \n",
       "\n",
       "   place_full_name place_type followers_count friends_count  account_lang  \\\n",
       "0              NaN        NaN            1145            41           NaN   \n",
       "1              NaN        NaN          513235           643           NaN   \n",
       "2              NaN        NaN           17506          1874           NaN   \n",
       "3              NaN        NaN         2779321           215           NaN   \n",
       "4              NaN        NaN             962           208           NaN   \n",
       "\n",
       "     account_created_at  verified lang  \n",
       "0  2017-05-04T22:00:38Z     False   es  \n",
       "1  2009-05-26T20:01:23Z      True   es  \n",
       "2  2010-06-12T09:48:50Z     False   es  \n",
       "3  2009-04-28T15:55:16Z      True   es  \n",
       "4  2017-04-04T21:40:51Z     False   es  \n",
       "\n",
       "[5 rows x 22 columns]"
      ]
     },
     "execution_count": 4,
     "metadata": {},
     "output_type": "execute_result"
    }
   ],
   "source": [
    "df.head()"
   ]
  },
  {
   "cell_type": "code",
   "execution_count": 5,
   "metadata": {},
   "outputs": [
    {
     "name": "stdout",
     "output_type": "stream",
     "text": [
      "<class 'pandas.core.frame.DataFrame'>\n",
      "RangeIndex: 355387 entries, 0 to 355386\n",
      "Data columns (total 22 columns):\n",
      "status_id               355387 non-null int64\n",
      "user_id                 355387 non-null int64\n",
      "created_at              355387 non-null object\n",
      "screen_name             355387 non-null object\n",
      "text                    355387 non-null object\n",
      "source                  355370 non-null object\n",
      "reply_to_status_id      41115 non-null float64\n",
      "reply_to_user_id        49341 non-null float64\n",
      "reply_to_screen_name    49341 non-null object\n",
      "is_quote                355387 non-null bool\n",
      "is_retweet              355387 non-null bool\n",
      "favourites_count        355387 non-null int64\n",
      "retweet_count           355387 non-null int64\n",
      "country_code            14313 non-null object\n",
      "place_full_name         14372 non-null object\n",
      "place_type              14372 non-null object\n",
      "followers_count         355387 non-null int64\n",
      "friends_count           355387 non-null int64\n",
      "account_lang            0 non-null float64\n",
      "account_created_at      355387 non-null object\n",
      "verified                355387 non-null bool\n",
      "lang                    355387 non-null object\n",
      "dtypes: bool(3), float64(3), int64(6), object(10)\n",
      "memory usage: 52.5+ MB\n"
     ]
    }
   ],
   "source": [
    "df.info()"
   ]
  },
  {
   "cell_type": "code",
   "execution_count": 6,
   "metadata": {},
   "outputs": [
    {
     "data": {
      "text/plain": [
       "status_id                    0\n",
       "user_id                      0\n",
       "created_at                   0\n",
       "screen_name                  0\n",
       "text                         0\n",
       "source                      17\n",
       "reply_to_status_id      314272\n",
       "reply_to_user_id        306046\n",
       "reply_to_screen_name    306046\n",
       "is_quote                     0\n",
       "is_retweet                   0\n",
       "favourites_count             0\n",
       "retweet_count                0\n",
       "country_code            341074\n",
       "place_full_name         341015\n",
       "place_type              341015\n",
       "followers_count              0\n",
       "friends_count                0\n",
       "account_lang            355387\n",
       "account_created_at           0\n",
       "verified                     0\n",
       "lang                         0\n",
       "dtype: int64"
      ]
     },
     "execution_count": 6,
     "metadata": {},
     "output_type": "execute_result"
    }
   ],
   "source": [
    "df.isnull().sum()"
   ]
  },
  {
   "cell_type": "code",
   "execution_count": 7,
   "metadata": {},
   "outputs": [],
   "source": [
    "df = df.drop(['reply_to_status_id', 'reply_to_user_id' , 'reply_to_screen_name' , 'country_code' , 'place_full_name' , 'place_type' , 'account_lang'], axis=1)"
   ]
  },
  {
   "cell_type": "code",
   "execution_count": 8,
   "metadata": {},
   "outputs": [
    {
     "data": {
      "text/plain": [
       "Index(['status_id', 'user_id', 'created_at', 'screen_name', 'text', 'source',\n",
       "       'is_quote', 'is_retweet', 'favourites_count', 'retweet_count',\n",
       "       'followers_count', 'friends_count', 'account_created_at', 'verified',\n",
       "       'lang'],\n",
       "      dtype='object')"
      ]
     },
     "execution_count": 8,
     "metadata": {},
     "output_type": "execute_result"
    }
   ],
   "source": [
    "df.columns"
   ]
  },
  {
   "cell_type": "code",
   "execution_count": 9,
   "metadata": {},
   "outputs": [
    {
     "data": {
      "text/plain": [
       "status_id              0\n",
       "user_id                0\n",
       "created_at             0\n",
       "screen_name            0\n",
       "text                   0\n",
       "source                17\n",
       "is_quote               0\n",
       "is_retweet             0\n",
       "favourites_count       0\n",
       "retweet_count          0\n",
       "followers_count        0\n",
       "friends_count          0\n",
       "account_created_at     0\n",
       "verified               0\n",
       "lang                   0\n",
       "dtype: int64"
      ]
     },
     "execution_count": 9,
     "metadata": {},
     "output_type": "execute_result"
    }
   ],
   "source": [
    "df.isnull().sum()"
   ]
  },
  {
   "cell_type": "code",
   "execution_count": 10,
   "metadata": {},
   "outputs": [
    {
     "data": {
      "text/plain": [
       "0                    TweetDeck\n",
       "1                    TweetDeck\n",
       "2                    TweetDeck\n",
       "3         Twitter Media Studio\n",
       "4                    TweetDeck\n",
       "                  ...         \n",
       "355382      Twitter for iPhone\n",
       "355383                 HubSpot\n",
       "355384                 HubSpot\n",
       "355385         Twitter Web App\n",
       "355386      Twitter for iPhone\n",
       "Name: source, Length: 355387, dtype: object"
      ]
     },
     "execution_count": 10,
     "metadata": {},
     "output_type": "execute_result"
    }
   ],
   "source": [
    "df.source"
   ]
  },
  {
   "cell_type": "code",
   "execution_count": 16,
   "metadata": {},
   "outputs": [
    {
     "data": {
      "text/plain": [
       "22"
      ]
     },
     "execution_count": 16,
     "metadata": {},
     "output_type": "execute_result"
    }
   ],
   "source": [
    "df.duplicated().sum()"
   ]
  },
  {
   "cell_type": "code",
   "execution_count": 19,
   "metadata": {},
   "outputs": [],
   "source": [
    "df.drop_duplicates(subset=None, keep='first', inplace=True)"
   ]
  },
  {
   "cell_type": "code",
   "execution_count": 20,
   "metadata": {},
   "outputs": [
    {
     "data": {
      "text/plain": [
       "0"
      ]
     },
     "execution_count": 20,
     "metadata": {},
     "output_type": "execute_result"
    }
   ],
   "source": [
    "df.duplicated().sum()"
   ]
  },
  {
   "cell_type": "code",
   "execution_count": 22,
   "metadata": {},
   "outputs": [
    {
     "data": {
      "text/plain": [
       "en     198566\n",
       "es      57284\n",
       "fr      21636\n",
       "und     14495\n",
       "it      10817\n",
       "        ...  \n",
       "ka          3\n",
       "ckb         3\n",
       "hy          2\n",
       "my          1\n",
       "km          1\n",
       "Name: lang, Length: 63, dtype: int64"
      ]
     },
     "execution_count": 22,
     "metadata": {},
     "output_type": "execute_result"
    }
   ],
   "source": [
    "df.lang.value_counts()"
   ]
  },
  {
   "cell_type": "code",
   "execution_count": null,
   "metadata": {},
   "outputs": [],
   "source": [
    "!pip install googletrans"
   ]
  },
  {
   "cell_type": "code",
   "execution_count": 40,
   "metadata": {},
   "outputs": [
    {
     "name": "stdout",
     "output_type": "stream",
     "text": [
      "{'af': 'afrikaans', 'sq': 'albanian', 'am': 'amharic', 'ar': 'arabic', 'hy': 'armenian', 'az': 'azerbaijani', 'eu': 'basque', 'be': 'belarusian', 'bn': 'bengali', 'bs': 'bosnian', 'bg': 'bulgarian', 'ca': 'catalan', 'ceb': 'cebuano', 'ny': 'chichewa', 'zh-cn': 'chinese (simplified)', 'zh-tw': 'chinese (traditional)', 'co': 'corsican', 'hr': 'croatian', 'cs': 'czech', 'da': 'danish', 'nl': 'dutch', 'en': 'english', 'eo': 'esperanto', 'et': 'estonian', 'tl': 'filipino', 'fi': 'finnish', 'fr': 'french', 'fy': 'frisian', 'gl': 'galician', 'ka': 'georgian', 'de': 'german', 'el': 'greek', 'gu': 'gujarati', 'ht': 'haitian creole', 'ha': 'hausa', 'haw': 'hawaiian', 'iw': 'hebrew', 'he': 'hebrew', 'hi': 'hindi', 'hmn': 'hmong', 'hu': 'hungarian', 'is': 'icelandic', 'ig': 'igbo', 'id': 'indonesian', 'ga': 'irish', 'it': 'italian', 'ja': 'japanese', 'jw': 'javanese', 'kn': 'kannada', 'kk': 'kazakh', 'km': 'khmer', 'ko': 'korean', 'ku': 'kurdish (kurmanji)', 'ky': 'kyrgyz', 'lo': 'lao', 'la': 'latin', 'lv': 'latvian', 'lt': 'lithuanian', 'lb': 'luxembourgish', 'mk': 'macedonian', 'mg': 'malagasy', 'ms': 'malay', 'ml': 'malayalam', 'mt': 'maltese', 'mi': 'maori', 'mr': 'marathi', 'mn': 'mongolian', 'my': 'myanmar (burmese)', 'ne': 'nepali', 'no': 'norwegian', 'or': 'odia', 'ps': 'pashto', 'fa': 'persian', 'pl': 'polish', 'pt': 'portuguese', 'pa': 'punjabi', 'ro': 'romanian', 'ru': 'russian', 'sm': 'samoan', 'gd': 'scots gaelic', 'sr': 'serbian', 'st': 'sesotho', 'sn': 'shona', 'sd': 'sindhi', 'si': 'sinhala', 'sk': 'slovak', 'sl': 'slovenian', 'so': 'somali', 'es': 'spanish', 'su': 'sundanese', 'sw': 'swahili', 'sv': 'swedish', 'tg': 'tajik', 'ta': 'tamil', 'te': 'telugu', 'th': 'thai', 'tr': 'turkish', 'uk': 'ukrainian', 'ur': 'urdu', 'ug': 'uyghur', 'uz': 'uzbek', 'vi': 'vietnamese', 'cy': 'welsh', 'xh': 'xhosa', 'yi': 'yiddish', 'yo': 'yoruba', 'zu': 'zulu'}\n"
     ]
    }
   ],
   "source": [
    "import googletrans\n",
    "\n",
    "print(googletrans.LANGUAGES)"
   ]
  },
  {
   "cell_type": "code",
   "execution_count": 46,
   "metadata": {},
   "outputs": [],
   "source": [
    "from googletrans import Translator"
   ]
  },
  {
   "cell_type": "code",
   "execution_count": 47,
   "metadata": {},
   "outputs": [
    {
     "data": {
      "text/plain": [
       "<googletrans.models.Translated at 0x5381c7c3c8>"
      ]
     },
     "execution_count": 47,
     "metadata": {},
     "output_type": "execute_result"
    }
   ],
   "source": [
    "translator.translate('مرحبا' ,  dest='ar')"
   ]
  },
  {
   "cell_type": "code",
   "execution_count": 48,
   "metadata": {},
   "outputs": [],
   "source": [
    "tweet = df.text\n",
    "translator = Translator()"
   ]
  },
  {
   "cell_type": "code",
   "execution_count": 49,
   "metadata": {},
   "outputs": [
    {
     "ename": "AttributeError",
     "evalue": "'function' object has no attribute 'detect'",
     "output_type": "error",
     "traceback": [
      "\u001b[1;31m---------------------------------------------------------------------------\u001b[0m",
      "\u001b[1;31mAttributeError\u001b[0m                            Traceback (most recent call last)",
      "\u001b[1;32m<ipython-input-49-e9f007771229>\u001b[0m in \u001b[0;36m<module>\u001b[1;34m\u001b[0m\n\u001b[1;32m----> 1\u001b[1;33m \u001b[0mTranslator\u001b[0m\u001b[1;33m(\u001b[0m\u001b[1;33m)\u001b[0m\u001b[1;33m.\u001b[0m\u001b[0mtranslate\u001b[0m\u001b[1;33m.\u001b[0m\u001b[0mdetect\u001b[0m\u001b[1;33m(\u001b[0m\u001b[0mdf\u001b[0m\u001b[1;33m.\u001b[0m\u001b[0mtext\u001b[0m\u001b[1;33m)\u001b[0m\u001b[1;33m\u001b[0m\u001b[1;33m\u001b[0m\u001b[0m\n\u001b[0m",
      "\u001b[1;31mAttributeError\u001b[0m: 'function' object has no attribute 'detect'"
     ]
    }
   ],
   "source": [
    "Translator().translate.detect(df.text)"
   ]
  }
 ],
 "metadata": {
  "kernelspec": {
   "display_name": "Python 3",
   "language": "python",
   "name": "python3"
  },
  "language_info": {
   "codemirror_mode": {
    "name": "ipython",
    "version": 3
   },
   "file_extension": ".py",
   "mimetype": "text/x-python",
   "name": "python",
   "nbconvert_exporter": "python",
   "pygments_lexer": "ipython3",
   "version": "3.7.4"
  }
 },
 "nbformat": 4,
 "nbformat_minor": 2
}
